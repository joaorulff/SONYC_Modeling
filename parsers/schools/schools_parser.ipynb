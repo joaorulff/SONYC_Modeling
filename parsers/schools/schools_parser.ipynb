{
 "cells": [
  {
   "cell_type": "code",
   "execution_count": 137,
   "metadata": {},
   "outputs": [],
   "source": [
    "import numpy as np\n",
    "import geog\n",
    "import pandas as pd\n",
    "import geopandas as gpd\n",
    "import csv\n",
    "import shapely\n",
    "from shapely.geometry import Point\n",
    "from shapely.geometry import Polygon\n",
    "import datetime"
   ]
  },
  {
   "cell_type": "code",
   "execution_count": 83,
   "metadata": {},
   "outputs": [],
   "source": [
    "inputFileName = '../../rawdata/school_location/schools.csv'\n",
    "outputFileName = '../../data/schools/schools.csv'"
   ]
  },
  {
   "cell_type": "code",
   "execution_count": 90,
   "metadata": {},
   "outputs": [],
   "source": [
    "# reading CSV\n",
    "dframe = pd.read_csv(inputFileName)"
   ]
  },
  {
   "cell_type": "code",
   "execution_count": 91,
   "metadata": {},
   "outputs": [],
   "source": [
    "colnames = ['Location 1']\n",
    "dframe = dframe[colnames]\n",
    "\n",
    "#  removing the address. Keeping only the coordinates.\n",
    "dframe['Location 1'] = dframe['Location 1'].apply(lambda location: str(location)[ (str(location).find('(') + 1) : str(location).find(')')])\n",
    "dframe['Location 1'] = dframe['Location 1'].apply(lambda coords: str(coords).split(','))"
   ]
  },
  {
   "cell_type": "code",
   "execution_count": 92,
   "metadata": {},
   "outputs": [],
   "source": [
    "# putting lat and lon in separate fields\n",
    "dframe['lat'] = dframe['Location 1'].apply( lambda coords: coords[0] )\n",
    "dframe['lon'] = dframe['Location 1'].apply( lambda coords: 'null' if len(coords) < 2 else str(coords[1]).strip() )"
   ]
  },
  {
   "cell_type": "code",
   "execution_count": 97,
   "metadata": {
    "code_folding": []
   },
   "outputs": [],
   "source": [
    "# saving in a CSV file\n",
    "dframe = dframe[['lat', 'lon']]\n",
    "dframe['lat'] = pd.to_numeric(dframe['lat'], errors='coerce')\n",
    "dframe['lon'] = pd.to_numeric(dframe['lon'], errors='coerce')\n",
    "dframe.dropna(inplace=True)\n",
    "\n",
    "# dframe.to_csv(outputFileName, index=False, quoting=csv.QUOTE_NONNUMERIC)"
   ]
  },
  {
   "cell_type": "code",
   "execution_count": 101,
   "metadata": {},
   "outputs": [
    {
     "data": {
      "text/html": [
       "<div>\n",
       "<style scoped>\n",
       "    .dataframe tbody tr th:only-of-type {\n",
       "        vertical-align: middle;\n",
       "    }\n",
       "\n",
       "    .dataframe tbody tr th {\n",
       "        vertical-align: top;\n",
       "    }\n",
       "\n",
       "    .dataframe thead th {\n",
       "        text-align: right;\n",
       "    }\n",
       "</style>\n",
       "<table border=\"1\" class=\"dataframe\">\n",
       "  <thead>\n",
       "    <tr style=\"text-align: right;\">\n",
       "      <th></th>\n",
       "      <th>lat</th>\n",
       "      <th>lon</th>\n",
       "      <th>geometry</th>\n",
       "    </tr>\n",
       "  </thead>\n",
       "  <tbody>\n",
       "    <tr>\n",
       "      <th>0</th>\n",
       "      <td>40.722075</td>\n",
       "      <td>-73.978747</td>\n",
       "      <td>POINT (-73.978747 40.722075)</td>\n",
       "    </tr>\n",
       "    <tr>\n",
       "      <th>1</th>\n",
       "      <td>40.730009</td>\n",
       "      <td>-73.984496</td>\n",
       "      <td>POINT (-73.98449599999999 40.730009)</td>\n",
       "    </tr>\n",
       "    <tr>\n",
       "      <th>2</th>\n",
       "      <td>40.721305</td>\n",
       "      <td>-73.986312</td>\n",
       "      <td>POINT (-73.986312 40.721305)</td>\n",
       "    </tr>\n",
       "    <tr>\n",
       "      <th>3</th>\n",
       "      <td>40.726008</td>\n",
       "      <td>-73.975058</td>\n",
       "      <td>POINT (-73.97505799999999 40.726008)</td>\n",
       "    </tr>\n",
       "    <tr>\n",
       "      <th>4</th>\n",
       "      <td>40.724440</td>\n",
       "      <td>-73.986214</td>\n",
       "      <td>POINT (-73.986214 40.72444)</td>\n",
       "    </tr>\n",
       "  </tbody>\n",
       "</table>\n",
       "</div>"
      ],
      "text/plain": [
       "         lat        lon                              geometry\n",
       "0  40.722075 -73.978747          POINT (-73.978747 40.722075)\n",
       "1  40.730009 -73.984496  POINT (-73.98449599999999 40.730009)\n",
       "2  40.721305 -73.986312          POINT (-73.986312 40.721305)\n",
       "3  40.726008 -73.975058  POINT (-73.97505799999999 40.726008)\n",
       "4  40.724440 -73.986214           POINT (-73.986214 40.72444)"
      ]
     },
     "execution_count": 101,
     "metadata": {},
     "output_type": "execute_result"
    }
   ],
   "source": [
    "dframe.head()"
   ]
  },
  {
   "cell_type": "code",
   "execution_count": 102,
   "metadata": {},
   "outputs": [],
   "source": [
    "# converting dFrame to geodataframe\n",
    "dframe['geometry'] = dframe.apply(lambda row: shapely.geometry.Point( row['lon'], row['lat'] ), axis=1 )\n",
    "dframe_geodf = gpd.GeoDataFrame(dframe, crs={'init' : 'epsg:4326'}, geometry='geometry')\n",
    "dframe_geodf = dframe_geodf.to_crs({'init':'epsg:3857'})"
   ]
  },
  {
   "cell_type": "markdown",
   "metadata": {},
   "source": [
    "## Extracting timeseries for each sensor"
   ]
  },
  {
   "cell_type": "code",
   "execution_count": 11,
   "metadata": {},
   "outputs": [],
   "source": [
    "sensorCoordsPath = '../../data/sensors/sensor_coords.txt'"
   ]
  },
  {
   "cell_type": "code",
   "execution_count": null,
   "metadata": {},
   "outputs": [],
   "source": [
    "sensorsCoords = open(sensorCoordsPath)\n",
    "\n",
    "for line in sensorsCoords:\n",
    "    \n",
    "    sensorID, lat, lon = line.split(' ')\n",
    "    \n",
    "    lat = float(lat)\n",
    "    lon = float(lon)\n",
    "    \n",
    "    spatialFilter = spatialJoin(dframe_geodf, lat, lon)"
   ]
  },
  {
   "cell_type": "markdown",
   "metadata": {},
   "source": [
    "## Helper Functions"
   ]
  },
  {
   "cell_type": "code",
   "execution_count": 175,
   "metadata": {},
   "outputs": [],
   "source": [
    "timeseries = generateTimeseries(2)"
   ]
  },
  {
   "cell_type": "code",
   "execution_count": 181,
   "metadata": {},
   "outputs": [
    {
     "data": {
      "text/plain": [
       "<matplotlib.axes._subplots.AxesSubplot at 0x11d554390>"
      ]
     },
     "execution_count": 181,
     "metadata": {},
     "output_type": "execute_result"
    },
    {
     "data": {
      "image/png": "[encoded data removed]",
      "text/plain": [
       "<Figure size 1440x360 with 1 Axes>"
      ]
     },
     "metadata": {},
     "output_type": "display_data"
    }
   ],
   "source": [
    "timeseries['2018-01-01':'2018-01-03'].plot(figsize=(20,5))"
   ]
  },
  {
   "cell_type": "code",
   "execution_count": 174,
   "metadata": {},
   "outputs": [],
   "source": [
    "def spatialJoin(geoDataframe, lat, lon):\n",
    "    \n",
    "    d = 200 # meters\n",
    "    n_points = 20\n",
    "    angles = np.linspace(0, 360, n_points)\n",
    "    center = shapely.geometry.Point(lon,lat)\n",
    "    polygon = Polygon(geog.propagate(center, angles, d))\n",
    "    \n",
    "    sinpoly = gpd.GeoDataFrame(crs={'init': 'epsg:4326'})\n",
    "    sinpoly = sinpoly.append({'geometry': polygon}, ignore_index=True) \n",
    "    sinpoly = sinpoly.to_crs({'init':'epsg:3857'})\n",
    "    \n",
    "    dataframe = gpd.tools.sjoin(geoDataframe, sinpoly, how='inner', op=\"within\")\n",
    "    \n",
    "    return dataframe\n",
    "\n",
    "\n",
    "def generateTimeseries(nSchools):\n",
    "    \n",
    "    timeseries = pd.DataFrame()\n",
    "    timeseries['datetime'] = pd.date_range('2018-01-01 00:00:00', '2018-12-31 23:00:00', freq='1h')\n",
    "    timeseries.set_index('datetime', inplace=True)\n",
    "    timeseries['count'] = 0\n",
    "    \n",
    "    startDate = datetime.datetime(year=2018, month=1, day=1)\n",
    "    endDate = datetime.datetime(year=2018, month=12, day=31)\n",
    "    \n",
    "    hour = datetime.timedelta(hours=1)\n",
    "    \n",
    "    while(endDate > startDate):\n",
    "        \n",
    "        if( startDate.hour >= 7 and startDate.hour <= 16):\n",
    "            \n",
    "            timeseries.loc[startDate]['count'] = nSchools\n",
    "            \n",
    "        startDate = startDate + hour\n",
    "            \n",
    "    return timeseries"
   ]
  }
 ],
 "metadata": {
  "kernelspec": {
   "display_name": "Python 3",
   "language": "python",
   "name": "python3"
  },
  "language_info": {
   "codemirror_mode": {
    "name": "ipython",
    "version": 3
   },
   "file_extension": ".py",
   "mimetype": "text/x-python",
   "name": "python",
   "nbconvert_exporter": "python",
   "pygments_lexer": "ipython3",
   "version": "3.6.5"
  }
 },
 "nbformat": 4,
 "nbformat_minor": 2
}
